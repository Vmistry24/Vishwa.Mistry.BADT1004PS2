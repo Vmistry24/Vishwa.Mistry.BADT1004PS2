{
 "cells": [
  {
   "cell_type": "markdown",
   "id": "4f79b10d",
   "metadata": {},
   "source": [
    "# <center>Problem Set 2</center>\n",
    "\n",
    "\n",
    "### Name: Vishwa Mistry\n",
    "### Student Id: 200568266"
   ]
  },
  {
   "cell_type": "markdown",
   "id": "79a31e77",
   "metadata": {},
   "source": [
    "# Question:1"
   ]
  },
  {
   "cell_type": "markdown",
   "id": "d704e911",
   "metadata": {},
   "source": [
    "### Here is what happens in every executed statement:\n",
    "\n",
    "- a = 0: The value 0 is given to the declared variable a.\n",
    "- B is a declared function (def b()).\n",
    "- global a: this line declares that a variable inside the function b refers to the global variable a defined outside the function.\n",
    "- With the parameter a, the c function is called (which has a global value of 0). Then, its is given the return value of c(a), which is 2.\n",
    "-  def c(a): c is a defined function\n",
    "\n",
    "### Now, after importing the module into the interpreter, the following sequence of events occurs:\n",
    "\n",
    "- b(): By invoking the b function, the global variable a's value is changed from 0 to 2. \n",
    "- b(): b is called once again, changing the value of the global variable a from 2 to 4 as a result.\n",
    "- b(): The b function is invoked once again, changing the global variable a's value from 4 to 6.\n",
    "- a: When the final expression a is applied to the global variable a, it returns its current value, which is 6.\n",
    "\n",
    "\n",
    " \n"
   ]
  },
  {
   "cell_type": "markdown",
   "id": "181a6218",
   "metadata": {},
   "source": [
    "# Question:2"
   ]
  },
  {
   "cell_type": "code",
   "execution_count": 1,
   "id": "d5f2b43e",
   "metadata": {},
   "outputs": [
    {
     "name": "stdout",
     "output_type": "stream",
     "text": [
      "Enter the name of the first file: vishwa.txt\n",
      "The length of vishwa.txt is 142 characters.\n",
      "\n",
      "Enter the name of the second file: idterm.py\n",
      "File idterm.py not found.\n"
     ]
    }
   ],
   "source": [
    "def fileLength(filename):\n",
    "    try:\n",
    "        # Use 'with' to handle file opening and closing automatically\n",
    "        with open(filename, 'r') as infile:\n",
    "            content = infile.read()\n",
    "            print(f\"The length of {filename} is {len(content)} characters.\")\n",
    "    except FileNotFoundError:\n",
    "        # Print a friendly message if the file is not found\n",
    "        print(f\"File {filename} not found.\")\n",
    "\n",
    "# Prompt for the first file name\n",
    "file1 = input(\"Enter the name of the first file: \")\n",
    "fileLength(file1)\n",
    "\n",
    "# Prompt for the second file name\n",
    "file2 = input(\"\\nEnter the name of the second file: \")\n",
    "fileLength(file2)\n"
   ]
  },
  {
   "cell_type": "markdown",
   "id": "ef2a4982",
   "metadata": {},
   "source": [
    "# Question:3\n"
   ]
  },
  {
   "cell_type": "code",
   "execution_count": 2,
   "id": "3f99764d",
   "metadata": {},
   "outputs": [
    {
     "name": "stdout",
     "output_type": "stream",
     "text": [
      "Pouch contents: ['doll', 'firetruck', 'kitten']\n",
      "I am a Kangaroo located at coordinates (3, 0)\n"
     ]
    }
   ],
   "source": [
    "class Marsupial:\n",
    "    def __init__(self):\n",
    "        # Initialize an empty list for pouch contents\n",
    "        self.pouch = []\n",
    "        \n",
    "    def put_in_pouch(self, item):\n",
    "        # Add an item to the pouch\n",
    "        self.pouch.append(item)\n",
    "        \n",
    "    def pouch_contents(self):\n",
    "        # Return the contents of the pouch\n",
    "        return self.pouch\n",
    "\n",
    "class Kangaroo(Marsupial):\n",
    "    def __init__(self, x=0, y=0):\n",
    "        # Initialize the parent class (Marsupial)\n",
    "        super().__init__()\n",
    "        # Initialize the coordinates\n",
    "        self.x = x\n",
    "        self.y = y\n",
    "    \n",
    "    def jump(self, dx, dy):\n",
    "        # Move the kangaroo by dx and dy along the x and y axes\n",
    "        self.x += dx\n",
    "        self.y += dy\n",
    "        \n",
    "    def __str__(self):\n",
    "        # Return a string representation of the kangaroo's location\n",
    "        return f\"I am a Kangaroo located at coordinates ({self.x}, {self.y})\"\n",
    "    \n",
    "# Create a Kangaroo object at (0, 0)\n",
    "k = Kangaroo()\n",
    "\n",
    "# Add items to the Kangaroo's pouch\n",
    "k.put_in_pouch('doll')\n",
    "k.put_in_pouch('firetruck')\n",
    "k.put_in_pouch('kitten')\n",
    "\n",
    "# Print the contents of the Kangaroo's pouch\n",
    "print(\"Pouch contents:\", k.pouch_contents())\n",
    "\n",
    "# Move the Kangaroo and print its location after each move\n",
    "k.jump(1, 0)\n",
    "k.jump(1, 0)\n",
    "k.jump(1, 0)\n",
    "\n",
    "# Print the Kangaroo's location\n",
    "print(k)"
   ]
  },
  {
   "cell_type": "markdown",
   "id": "d3b97d29",
   "metadata": {},
   "source": [
    "# Question:4"
   ]
  },
  {
   "cell_type": "code",
   "execution_count": 5,
   "id": "29df6603",
   "metadata": {},
   "outputs": [
    {
     "name": "stdout",
     "output_type": "stream",
     "text": [
      "Enter the first positive integer: 10\n",
      "Enter the second positive integer: 5\n",
      "\n",
      "Collatz sequence for 10:\n",
      "10 -> 5 -> 16 -> 8 -> 4 -> 2 -> 1\n",
      "\n",
      "Collatz sequence for 5:\n",
      "5 -> 16 -> 8 -> 4 -> 2 -> 1\n"
     ]
    }
   ],
   "source": [
    "def collatz(x):\n",
    "    if x <= 0:\n",
    "        print(\"Please enter a positive integer greater than 0.\")\n",
    "        return\n",
    "    \n",
    "    sequence = []\n",
    "    while x != 1:\n",
    "        sequence.append(x)\n",
    "        if x % 2 == 0:\n",
    "            x = x // 2\n",
    "        else:\n",
    "            x = 3 * x + 1\n",
    "    sequence.append(1)  \n",
    "    print(\" -> \".join(map(str, sequence))) \n",
    "    \n",
    "# Get two positive integers from the user\n",
    "num1 = int(input(\"Enter the first positive integer: \"))\n",
    "num2 = int(input(\"Enter the second positive integer: \"))\n",
    "\n",
    "print(f\"\\nCollatz sequence for {num1}:\")\n",
    "collatz(num1)\n",
    "\n",
    "print(f\"\\nCollatz sequence for {num2}:\")\n",
    "collatz(num2)"
   ]
  },
  {
   "cell_type": "markdown",
   "id": "5fea3cb7",
   "metadata": {},
   "source": [
    "# Question:5"
   ]
  },
  {
   "cell_type": "code",
   "execution_count": 5,
   "id": "9edc42fd",
   "metadata": {},
   "outputs": [
    {
     "name": "stdout",
     "output_type": "stream",
     "text": [
      "Enter a number: 99\n",
      "Binary representation of 99 is: 1100011\n"
     ]
    }
   ],
   "source": [
    "def binary(n):\n",
    "    if n == 0:\n",
    "        return '0'\n",
    "    elif n == 1:\n",
    "        return '1'\n",
    "    else:\n",
    "        return binary(n // 2) + str(n % 2)\n",
    "\n",
    "number = int(input(\"Enter a number: \"))\n",
    "\n",
    "# Convert to binary and display\n",
    "binary_representation = binary(number)\n",
    "print(f\"Binary representation of {number} is: {binary_representation}\")"
   ]
  },
  {
   "cell_type": "markdown",
   "id": "b6108701",
   "metadata": {},
   "source": [
    "# Question:6"
   ]
  },
  {
   "cell_type": "code",
   "execution_count": 4,
   "id": "135bcf8a",
   "metadata": {},
   "outputs": [
    {
     "name": "stdout",
     "output_type": "stream",
     "text": [
      "W3C Mission\n",
      "  Principles\n"
     ]
    }
   ],
   "source": [
    "from html.parser import HTMLParser\n",
    "\n",
    "class HeadingParser(HTMLParser):\n",
    "    def __init__(self):\n",
    "        super().__init__()\n",
    "        self.headings = []\n",
    "        self.current_level = 0\n",
    "\n",
    "    def handle_starttag(self, tag, attrs):\n",
    "        # Check if the tag is a heading (h1, h2, ..., h6)\n",
    "        if tag.startswith('h') and tag[1:].isdigit() and 1 <= int(tag[1]) <= 6:\n",
    "            self.current_level = int(tag[1])\n",
    "\n",
    "    def handle_data(self, data):\n",
    "        if self.current_level:\n",
    "            self.headings.append((self.current_level, data.strip()))\n",
    "\n",
    "    def handle_endtag(self, tag):\n",
    "        if tag.startswith('h') and tag[1:].isdigit() and 1 <= int(tag[1]) <= 6:\n",
    "            self.current_level = 0\n",
    "\n",
    "    def print_headings(self):\n",
    "        for level, heading in self.headings:\n",
    "            print(' ' * (level - 1) * 2 + heading)\n",
    "\n",
    "def parse_html_file(filename):\n",
    "    try:\n",
    "        with open(filename, 'r') as infile:\n",
    "            content = infile.read()\n",
    "        hp = HeadingParser()\n",
    "        hp.feed(content)\n",
    "        hp.print_headings()\n",
    "    except FileNotFoundError:\n",
    "        print(f\"Error: File '{filename}' not found.\")\n",
    "    except IOError:\n",
    "        print(f\"Error: Could not read file '{filename}'.\")\n",
    "\n",
    "# Example usage\n",
    "parse_html_file('w3c.html')"
   ]
  },
  {
   "cell_type": "markdown",
   "id": "c39756b3",
   "metadata": {},
   "source": [
    "# Question:7"
   ]
  },
  {
   "cell_type": "code",
   "execution_count": 38,
   "id": "ce9ada28",
   "metadata": {},
   "outputs": [
    {
     "name": "stdout",
     "output_type": "stream",
     "text": [
      " http://reed.cs.depaul.edu/lperkovic/test1.html\n",
      "         http://reed.cs.depaul.edu/lperkovic/test2.html\n",
      "                 http://reed.cs.depaul.edu/lperkovic/test4.html\n",
      "         http://reed.cs.depaul.edu/lperkovic/test3.html\n",
      "                 http://reed.cs.depaul.edu/lperkovic/test4.html\n"
     ]
    }
   ],
   "source": [
    "from html.parser import HTMLParser    \n",
    "from urllib.request import urlopen\n",
    "from urllib.parse import urljoin\n",
    "\n",
    "class Collector(HTMLParser):\n",
    "    \n",
    "\n",
    "    def __init__(self, url):\n",
    "      \n",
    "        HTMLParser.__init__(self)\n",
    "        self.url = url\n",
    "        self.url_links = []\n",
    "\n",
    "\n",
    "    def append(self):\n",
    "        \n",
    "        return self.url_links\n",
    "\n",
    "\n",
    "\n",
    "\n",
    "    def handle_starttag(self, url_tag, attributes):\n",
    "        for a in attributes:\n",
    "            ab = urljoin(self.url, a[1])\n",
    "            if ab[:4] == 'http': \n",
    "                self.url_links.append(ab)\n",
    "i = 0\n",
    "def webdir(url, depth, i):\n",
    "   \n",
    "\n",
    "    depth = depth - 1    \n",
    "    print(i*'  ', url)         \n",
    "\n",
    "    objective = urlopen(url).read().decode()\n",
    "    collection = Appender(url)\n",
    "    collection.feed(objective)\n",
    "    urls = collection.append() \n",
    " \n",
    "    url_links = urls\n",
    "    i= i + 4\n",
    "\n",
    "\n",
    "    for link in url_links:\n",
    "        if depth < 0 or i < 0:\n",
    "            return 1\n",
    "        else:\n",
    "            webdir(link, depth, i)\n",
    "\n",
    "\n",
    "\n",
    "webdir('http://reed.cs.depaul.edu/lperkovic/test1.html', 2, 0)\n"
   ]
  },
  {
   "cell_type": "markdown",
   "id": "7482a680",
   "metadata": {},
   "source": [
    "# Question:8"
   ]
  },
  {
   "cell_type": "code",
   "execution_count": 2,
   "id": "7fa21cba",
   "metadata": {},
   "outputs": [
    {
     "name": "stdout",
     "output_type": "stream",
     "text": [
      "a) All temperature data:\n",
      "\n",
      "[(24.8,), (28.4,), (27.9,), (27.6,), (4.2,), (8.3,), (15.7,), (10.4,), (13.6,), (20.7,), (27.7,), (22.2,), (24.8,), (28.4,), (27.9,), (27.6,), (4.2,), (8.3,), (15.7,), (10.4,), (13.6,), (20.7,), (27.7,), (22.2,), (24.8,), (28.4,), (27.9,), (27.6,), (4.2,), (8.3,), (15.7,), (10.4,), (13.6,), (20.7,), (27.7,), (22.2,)]\n",
      "\n",
      "\n",
      "b) All cities without repetition:\n",
      "\n",
      "[('Mumbai',), ('London',), ('Cairo',)]\n",
      "\n",
      "\n",
      "c) All records for India:\n",
      "\n",
      "[('Mumbai', 'India', 'Winter', 24.8, 5.9), ('Mumbai', 'India', 'Spring', 28.4, 16.2), ('Mumbai', 'India', 'Summer', 27.9, 1549.4), ('Mumbai', 'India', 'Fall', 27.6, 346.0), ('Mumbai', 'India', 'Winter', 24.8, 5.9), ('Mumbai', 'India', 'Spring', 28.4, 16.2), ('Mumbai', 'India', 'Summer', 27.9, 1549.4), ('Mumbai', 'India', 'Fall', 27.6, 346.0), ('Mumbai', 'India', 'Winter', 24.8, 5.9), ('Mumbai', 'India', 'Spring', 28.4, 16.2), ('Mumbai', 'India', 'Summer', 27.9, 1549.4), ('Mumbai', 'India', 'Fall', 27.6, 346.0)]\n",
      "\n",
      "\n",
      "d) All Fall records:\n",
      "\n",
      "[('Mumbai', 'India', 'Fall', 27.6, 346.0), ('London', 'United Kingdom', 'Fall', 10.4, 218.5), ('Cairo', 'Egypt', 'Fall', 22.2, 4.5), ('Mumbai', 'India', 'Fall', 27.6, 346.0), ('London', 'United Kingdom', 'Fall', 10.4, 218.5), ('Cairo', 'Egypt', 'Fall', 22.2, 4.5), ('Mumbai', 'India', 'Fall', 27.6, 346.0), ('London', 'United Kingdom', 'Fall', 10.4, 218.5), ('Cairo', 'Egypt', 'Fall', 22.2, 4.5)]\n",
      "\n",
      "\n",
      "e) City, Country, and Season for which the average rainfall is between 200 and 400 millimeters:\n",
      "\n",
      "[('London', 'United Kingdom', 'Fall'), ('London', 'United Kingdom', 'Winter'), ('Mumbai', 'India', 'Fall')]\n",
      "\n",
      "\n",
      "f) City and Country for which the average Fall temperature is above 20 degrees, in increasing temperature order:\n",
      "\n",
      "('Cairo', 'Egypt')\n",
      "\n",
      "\n",
      "g) The total annual rainfall for Cairo:\n",
      "\n",
      "82.8\n",
      "\n",
      "\n",
      "h) The total rainfall for each season:\n",
      "\n",
      "[('Fall', 1707.0), ('Spring', 576.9), ('Summer', 5119.5), ('Winter', 690.3)]\n"
     ]
    }
   ],
   "source": [
    "import sqlite3\n",
    "\n",
    "# Connect to the database\n",
    "conn = sqlite3.connect('weather_data.db')\n",
    "c = conn.cursor()\n",
    "\n",
    "# Create the table\n",
    "c.execute('''CREATE TABLE weather__data\n",
    "             (City text, Country text, Season text, Temperature real, Rainfall real)''')\n",
    "\n",
    "# Insert the data\n",
    "c.execute(\"INSERT INTO weather_data VALUES ('Mumbai', 'India', 'Winter', 24.8, 5.9)\")\n",
    "c.execute(\"INSERT INTO weather_data VALUES ('Mumbai', 'India', 'Spring', 28.4, 16.2)\")\n",
    "c.execute(\"INSERT INTO weather_data VALUES ('Mumbai', 'India', 'Summer', 27.9, 1549.4)\")\n",
    "c.execute(\"INSERT INTO weather_data VALUES ('Mumbai', 'India', 'Fall', 27.6, 346.0)\")\n",
    "c.execute(\"INSERT INTO weather_data VALUES ('London', 'United Kingdom', 'Winter', 4.2, 207.7)\")\n",
    "c.execute(\"INSERT INTO weather_data VALUES ('London', 'United Kingdom', 'Spring', 8.3, 169.6)\")\n",
    "c.execute(\"INSERT INTO weather_data VALUES ('London', 'United Kingdom', 'Summer', 15.7, 157.0)\")\n",
    "c.execute(\"INSERT INTO weather_data VALUES ('London', 'United Kingdom', 'Fall', 10.4, 218.5)\")\n",
    "c.execute(\"INSERT INTO weather_data VALUES ('Cairo', 'Egypt', 'Winter', 13.6, 16.5)\")\n",
    "c.execute(\"INSERT INTO weather_data VALUES ('Cairo', 'Egypt', 'Spring', 20.7, 6.5)\")\n",
    "c.execute(\"INSERT INTO weather_data VALUES ('Cairo', 'Egypt', 'Summer', 27.7, 0.1)\")\n",
    "c.execute(\"INSERT INTO weather_data VALUES ('Cairo', 'Egypt', 'Fall', 22.2, 4.5)\")\n",
    "\n",
    "# Save the changes\n",
    "conn.commit()\n",
    "\n",
    "# Query the data\n",
    "# a) All the temperature data.\n",
    "c.execute(\"SELECT Temperature FROM weather_data\")\n",
    "print(\"a) All temperature data:\\n\")\n",
    "print(c.fetchall())\n",
    "\n",
    "# b) All the cities, but without repetition.\n",
    "c.execute(\"SELECT DISTINCT City FROM weather_data\")\n",
    "print(\"\\n\\nb) All cities without repetition:\\n\")\n",
    "print(c.fetchall())\n",
    "\n",
    "# c) All the records for India.\n",
    "c.execute(\"SELECT * FROM weather_data WHERE Country='India'\")\n",
    "print(\"\\n\\nc) All records for India:\\n\")\n",
    "print(c.fetchall())\n",
    "\n",
    "# d) All the Fall records.\n",
    "c.execute(\"SELECT * FROM weather_data WHERE Season='Fall'\")\n",
    "print(\"\\n\\nd) All Fall records:\\n\")\n",
    "print(c.fetchall())\n",
    "\n",
    "# e) The city, country, and season for which the average rainfall is between 200 and 400 millimeters.\n",
    "c.execute(\"SELECT City, Country, Season FROM weather_data GROUP BY City, Country, Season HAVING AVG(Rainfall) BETWEEN 200 AND 400\")\n",
    "print(\"\\n\\ne) City, Country, and Season for which the average rainfall is between 200 and 400 millimeters:\\n\")\n",
    "print(c.fetchall())\n",
    "\n",
    "# f) The city and country for which the average Fall temperature is above 20 degrees, in increasing temperature order.\n",
    "c.execute(\"SELECT City, Country FROM weather_data WHERE Season='Fall' GROUP BY City, Country HAVING AVG(Temperature) > 20 ORDER BY AVG(Temperature)\")\n",
    "print(\"\\n\\nf) City and Country for which the average Fall temperature is above 20 degrees, in increasing temperature order:\\n\")\n",
    "print(c.fetchone())\n",
    "\n",
    "# Query g) The total annual rainfall for Cairo.\n",
    "c.execute('SELECT SUM(Rainfall) FROM weather_data WHERE City=\"Cairo\"')\n",
    "print(\"\\n\\ng) The total annual rainfall for Cairo:\\n\")\n",
    "print(c.fetchone()[0])\n",
    "\n",
    "# Query h) The total rainfall for each season.\n",
    "c.execute('SELECT Season, SUM(Rainfall) FROM weather_data GROUP BY Season')\n",
    "print(\"\\n\\nh) The total rainfall for each season:\\n\")\n",
    "\n",
    "print(c.fetchall())\n",
    "\n",
    "# Close the cursor and the connection\n",
    "c.close()\n",
    "conn.close()"
   ]
  },
  {
   "cell_type": "markdown",
   "id": "9d477bbc",
   "metadata": {},
   "source": [
    "# Question:9"
   ]
  },
  {
   "cell_type": "code",
   "execution_count": 3,
   "id": "7c2a2ed5",
   "metadata": {},
   "outputs": [
    {
     "name": "stdout",
     "output_type": "stream",
     "text": [
      "a) ['THE', 'QUICK', 'BROWN', 'FOX', 'JUMPS', 'OVER', 'THE', 'LAZY', 'DOG']\n",
      "\n",
      "b) ['the', 'quick', 'brown', 'fox', 'jumps', 'over', 'the', 'lazy', 'dog']\n",
      "\n",
      "c) [3, 5, 5, 3, 5, 4, 3, 4, 3]\n",
      "\n",
      "d) [['THE', 'the', 3], ['QUICK', 'quick', 5], ['BROWN', 'brown', 5], ['FOX', 'fox', 3], ['JUMPS', 'jumps', 5], ['OVER', 'over', 4], ['THE', 'the', 3], ['LAZY', 'lazy', 4], ['DOG', 'dog', 3]]\n",
      "\n",
      "e) ['quick', 'brown', 'jumps', 'over', 'lazy']\n"
     ]
    }
   ],
   "source": [
    "# Define the list of words\n",
    "words = ['The', 'quick', 'brown', 'fox', 'jumps', 'over', 'the', 'lazy', 'dog']\n",
    "\n",
    "# a) Convert all words to uppercase\n",
    "uppercase_words = [word.upper() for word in words]\n",
    "print(\"a)\", uppercase_words)\n",
    "\n",
    "# b) Convert all words to lowercase\n",
    "lowercase_words = [word.lower() for word in words]\n",
    "print(\"\\nb)\", lowercase_words)\n",
    "\n",
    "# c) Get the lengths of each word\n",
    "word_lengths = [len(word) for word in words]\n",
    "print(\"\\nc)\", word_lengths)\n",
    "\n",
    "# d) Create a list containing uppercase, lowercase, and length of each word\n",
    "word_info = [[word.upper(), word.lower(), len(word)] for word in words]\n",
    "print(\"\\nd)\", word_info)\n",
    "\n",
    "# e) Get words that contain 4 or more characters\n",
    "long_words = [word for word in words if len(word) >= 4]\n",
    "print(\"\\ne)\", long_words)"
   ]
  }
 ],
 "metadata": {
  "kernelspec": {
   "display_name": "Python 3 (ipykernel)",
   "language": "python",
   "name": "python3"
  },
  "language_info": {
   "codemirror_mode": {
    "name": "ipython",
    "version": 3
   },
   "file_extension": ".py",
   "mimetype": "text/x-python",
   "name": "python",
   "nbconvert_exporter": "python",
   "pygments_lexer": "ipython3",
   "version": "3.11.5"
  }
 },
 "nbformat": 4,
 "nbformat_minor": 5
}
